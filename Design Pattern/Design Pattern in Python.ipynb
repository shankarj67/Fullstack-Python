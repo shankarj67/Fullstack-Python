{
 "cells": [
  {
   "cell_type": "markdown",
   "metadata": {},
   "source": [
    "# Singleton class"
   ]
  },
  {
   "cell_type": "code",
   "execution_count": 2,
   "metadata": {},
   "outputs": [],
   "source": [
    "class Tigger:\n",
    "    \n",
    "    def __str__(self):\n",
    "        return \"I am the only one\"\n",
    "    \n",
    "    def roar(self):\n",
    "        return \"GRRRRRR!!\""
   ]
  },
  {
   "cell_type": "code",
   "execution_count": 4,
   "metadata": {},
   "outputs": [
    {
     "name": "stdout",
     "output_type": "stream",
     "text": [
      "False\n",
      "False\n"
     ]
    }
   ],
   "source": [
    "a = Tigger()\n",
    "b = Tigger()\n",
    "\n",
    "print(id(a) == id(b))\n",
    "\n",
    "print(a is b) "
   ]
  },
  {
   "cell_type": "code",
   "execution_count": 5,
   "metadata": {},
   "outputs": [],
   "source": [
    "# Let us make it private"
   ]
  },
  {
   "cell_type": "code",
   "execution_count": 10,
   "metadata": {},
   "outputs": [],
   "source": [
    "class _Tigger:\n",
    "    \n",
    "    def __str__(self):\n",
    "        return \"I am the only one\"\n",
    "    \n",
    "    def roar(self):\n",
    "        return \"GRRRRRR!!\"\n",
    "    \n",
    "_instance = None\n",
    "\n",
    "def Tigger():\n",
    "    global _instance\n",
    "    if _instance is None:\n",
    "        _instance = _Tigger()\n",
    "    return _instance\n",
    "    "
   ]
  },
  {
   "cell_type": "code",
   "execution_count": 11,
   "metadata": {},
   "outputs": [
    {
     "name": "stdout",
     "output_type": "stream",
     "text": [
      "True\n",
      "True\n"
     ]
    }
   ],
   "source": [
    "a = Tigger()\n",
    "b = Tigger()\n",
    "\n",
    "print(id(a) == id(b))\n",
    "\n",
    "print(a is b) "
   ]
  },
  {
   "cell_type": "markdown",
   "metadata": {},
   "source": [
    "This is helpful for if you need you class to have only one instance\n",
    "\n",
    "This can be implemented using dunder new or metaclass"
   ]
  },
  {
   "cell_type": "markdown",
   "metadata": {},
   "source": [
    "# Behavioural Pattern"
   ]
  },
  {
   "cell_type": "code",
   "execution_count": 2,
   "metadata": {},
   "outputs": [],
   "source": [
    "from abc import ABC, abstractmethod\n",
    "\n",
    "\n",
    "class AverageCalculator(ABC): \n",
    "\n",
    "    def average(self): \n",
    "        try:\n",
    "            num_items = 0\n",
    "            total_sum = 0\n",
    "            while self.has_next():\n",
    "                total_sum += self.next_item()\n",
    "                num_items += 1\n",
    "            if num_items == 0:\n",
    "                raise RuntimeError(\"Can't compute the average of zero items.\")\n",
    "            return total_sum / num_items\n",
    "        finally:\n",
    "            self.dispose()\n",
    "\n",
    "    @abstractmethod\n",
    "    def has_next(self): \n",
    "        pass\n",
    "\n",
    "    @abstractmethod\n",
    "    def next_item(self): \n",
    "        pass\n",
    "\n",
    "    def dispose(self): \n",
    "        pass"
   ]
  },
  {
   "cell_type": "code",
   "execution_count": 68,
   "metadata": {},
   "outputs": [],
   "source": [
    "class FileAverageCalculator(AverageCalculator):\n",
    "\n",
    "    def __init__(self, file): \n",
    "        self.file = file\n",
    "        self.last_line = self.file.readline() \n",
    "\n",
    "    def has_next(self):\n",
    "       return self.last_line != '' \n",
    "\n",
    "    def next_item(self):\n",
    "        result = float(self.last_line)\n",
    "        self.last_line = self.file.readline() \n",
    "        return result\n",
    "\n",
    "    def dispose(self):\n",
    "        self.file.close()"
   ]
  },
  {
   "cell_type": "code",
   "execution_count": null,
   "metadata": {},
   "outputs": [],
   "source": []
  },
  {
   "cell_type": "code",
   "execution_count": 16,
   "metadata": {},
   "outputs": [
    {
     "ename": "TypeError",
     "evalue": "Can't instantiate abstract class FileAverageCalculator with abstract methods has_next",
     "output_type": "error",
     "traceback": [
      "\u001b[0;31m---------------------------------------------------------------------------\u001b[0m",
      "\u001b[0;31mTypeError\u001b[0m                                 Traceback (most recent call last)",
      "\u001b[0;32m<ipython-input-16-03c4455c6311>\u001b[0m in \u001b[0;36m<module>\u001b[0;34m\u001b[0m\n\u001b[0;32m----> 1\u001b[0;31m \u001b[0mfac\u001b[0m \u001b[0;34m=\u001b[0m \u001b[0mFileAverageCalculator\u001b[0m\u001b[0;34m(\u001b[0m\u001b[0mopen\u001b[0m\u001b[0;34m(\u001b[0m\u001b[0;34m'data.text'\u001b[0m\u001b[0;34m)\u001b[0m\u001b[0;34m)\u001b[0m\u001b[0;34m\u001b[0m\u001b[0;34m\u001b[0m\u001b[0m\n\u001b[0m\u001b[1;32m      2\u001b[0m \u001b[0mprint\u001b[0m\u001b[0;34m(\u001b[0m\u001b[0mfac\u001b[0m\u001b[0;34m.\u001b[0m\u001b[0maverage\u001b[0m\u001b[0;34m(\u001b[0m\u001b[0;34m)\u001b[0m\u001b[0;34m)\u001b[0m \u001b[0;31m# Call the template method\u001b[0m\u001b[0;34m\u001b[0m\u001b[0;34m\u001b[0m\u001b[0m\n",
      "\u001b[0;31mTypeError\u001b[0m: Can't instantiate abstract class FileAverageCalculator with abstract methods has_next"
     ]
    }
   ],
   "source": [
    "fac = FileAverageCalculator(open('data.text'))\n",
    "print(fac.average()) # Call the template method"
   ]
  },
  {
   "cell_type": "code",
   "execution_count": 56,
   "metadata": {},
   "outputs": [],
   "source": [
    "class MemoryAverageCalculator(AverageCalculator):\n",
    "    \n",
    "    def __init__(self, data):\n",
    "        self.data = data\n",
    "        self.iterator = iter(data)\n",
    "        \n",
    "    def has_next(self):\n",
    "        if all(False for _ in self.iterator):\n",
    "            return False\n",
    "        else:\n",
    "            return True\n",
    "        \n",
    "    def next_item(self):\n",
    "        try:\n",
    "            return next(self.iterator)\n",
    "        except StopIteration:\n",
    "            return 0"
   ]
  },
  {
   "cell_type": "code",
   "execution_count": 59,
   "metadata": {},
   "outputs": [],
   "source": [
    "a = MemoryAverageCalculator([1,2,3,4])"
   ]
  },
  {
   "cell_type": "code",
   "execution_count": 60,
   "metadata": {},
   "outputs": [
    {
     "data": {
      "text/plain": [
       "3.0"
      ]
     },
     "execution_count": 60,
     "metadata": {},
     "output_type": "execute_result"
    }
   ],
   "source": [
    "a.average()"
   ]
  },
  {
   "cell_type": "markdown",
   "metadata": {},
   "source": [
    "# Adapter pattern\n"
   ]
  },
  {
   "cell_type": "code",
   "execution_count": 61,
   "metadata": {},
   "outputs": [],
   "source": [
    "a = (i * i for i in range(10))"
   ]
  },
  {
   "cell_type": "code",
   "execution_count": 62,
   "metadata": {},
   "outputs": [
    {
     "data": {
      "text/plain": [
       "<generator object <genexpr> at 0x7f593d2f72a0>"
      ]
     },
     "execution_count": 62,
     "metadata": {},
     "output_type": "execute_result"
    }
   ],
   "source": [
    "a"
   ]
  },
  {
   "cell_type": "code",
   "execution_count": 63,
   "metadata": {},
   "outputs": [
    {
     "data": {
      "text/plain": [
       "0"
      ]
     },
     "execution_count": 63,
     "metadata": {},
     "output_type": "execute_result"
    }
   ],
   "source": [
    "next(a)"
   ]
  },
  {
   "cell_type": "code",
   "execution_count": 64,
   "metadata": {},
   "outputs": [],
   "source": [
    "# make the above template class into adapter pattern"
   ]
  },
  {
   "cell_type": "code",
   "execution_count": 65,
   "metadata": {},
   "outputs": [],
   "source": [
    "# providing a wrapper and makes the object in another way"
   ]
  },
  {
   "cell_type": "code",
   "execution_count": 69,
   "metadata": {},
   "outputs": [],
   "source": [
    "class GeneratorAdapter:\n",
    "\n",
    "    def __init__(self, adaptee): \n",
    "        self.adaptee = adaptee\n",
    "\n",
    "    def readline(self):\n",
    "        try:\n",
    "            return next(self.adaptee) \n",
    "        except StopIteration:\n",
    "            return '' \n",
    "\n",
    "    def close(self): \n",
    "        pass"
   ]
  },
  {
   "cell_type": "code",
   "execution_count": 70,
   "metadata": {},
   "outputs": [
    {
     "name": "stdout",
     "output_type": "stream",
     "text": [
      "50.554579\n"
     ]
    }
   ],
   "source": [
    "from random import randint\n",
    "\n",
    "g = (randint(1, 100) for i in range(1000000)) \n",
    "fac = FileAverageCalculator(GeneratorAdapter(g)) \n",
    "print(fac.average()) # Call the template method"
   ]
  },
  {
   "cell_type": "code",
   "execution_count": 71,
   "metadata": {},
   "outputs": [],
   "source": [
    "# Generator are much more efficient"
   ]
  },
  {
   "cell_type": "code",
   "execution_count": 74,
   "metadata": {},
   "outputs": [],
   "source": [
    "class Duck:\n",
    "\n",
    "    def quack(self):\n",
    "      print('Quack')\n",
    "\n",
    "    def fly(self):\n",
    "        print(\"I'm flying\")\n",
    "\n",
    "\n",
    "class Turkey:\n",
    "\n",
    "    def gobble(self):\n",
    "        print('Gobble gobble')\n",
    "\n",
    "    def fly(self):\n",
    "        print(\"I'm flying a short distance\")"
   ]
  },
  {
   "cell_type": "code",
   "execution_count": 81,
   "metadata": {},
   "outputs": [],
   "source": [
    "# THis adapter is an example of composition "
   ]
  },
  {
   "cell_type": "code",
   "execution_count": 82,
   "metadata": {},
   "outputs": [],
   "source": [
    "class TurkeyAdapter:\n",
    "    \n",
    "    def __init__(self, turkey):\n",
    "        self.turkey = turkey\n",
    "    \n",
    "    def quack(self):\n",
    "        self.turkey.gobble()\n",
    "        \n",
    "    def fly(self):\n",
    "        for i in range(5):\n",
    "            self.turkey.fly()\n",
    "        "
   ]
  },
  {
   "cell_type": "code",
   "execution_count": 84,
   "metadata": {},
   "outputs": [
    {
     "name": "stdout",
     "output_type": "stream",
     "text": [
      "The Turkey says...\n",
      "Gobble gobble\n",
      "I'm flying a short distance\n",
      "\n",
      "The Duck says...\n",
      "Quack\n",
      "I'm flying\n",
      "\n",
      "The TurkeyAdapter says...\n",
      "Gobble gobble\n",
      "I'm flying a short distance\n",
      "I'm flying a short distance\n",
      "I'm flying a short distance\n",
      "I'm flying a short distance\n",
      "I'm flying a short distance\n"
     ]
    }
   ],
   "source": [
    "def duck_interaction(duck):\n",
    "    duck.quack()\n",
    "    duck.fly()\n",
    "\n",
    "\n",
    "duck = Duck()\n",
    "turkey = Turkey()\n",
    "turkey_adapter = TurkeyAdapter(turkey)\n",
    "\n",
    "print('The Turkey says...')\n",
    "turkey.gobble()\n",
    "turkey.fly()\n",
    "\n",
    "print('\\nThe Duck says...')\n",
    "duck_interaction(duck)\n",
    "\n",
    "print('\\nThe TurkeyAdapter says...')\n",
    "duck_interaction(turkey_adapter)"
   ]
  },
  {
   "cell_type": "markdown",
   "metadata": {},
   "source": [
    "# Observer Pattern"
   ]
  },
  {
   "cell_type": "code",
   "execution_count": null,
   "metadata": {},
   "outputs": [],
   "source": []
  }
 ],
 "metadata": {
  "kernelspec": {
   "display_name": "Python 3",
   "language": "python",
   "name": "python3"
  },
  "language_info": {
   "codemirror_mode": {
    "name": "ipython",
    "version": 3
   },
   "file_extension": ".py",
   "mimetype": "text/x-python",
   "name": "python",
   "nbconvert_exporter": "python",
   "pygments_lexer": "ipython3",
   "version": "3.7.3"
  }
 },
 "nbformat": 4,
 "nbformat_minor": 2
}
