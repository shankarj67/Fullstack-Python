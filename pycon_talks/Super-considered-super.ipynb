{
 "cells": [
  {
   "cell_type": "markdown",
   "metadata": {},
   "source": [
    "### Inheritance is a tool for code reuse\n",
    "\n",
    "Python super is different from each other\n",
    "\n",
    "linearisation is the way and that what MRO does\n",
    "\n",
    "what order to visit that mro does\n",
    "\n",
    "##### linearisation algorithm:\n",
    "\n",
    "super will always call the child class which it is inhereting from\n",
    "\n",
    "children called first\n",
    "\n",
    "super called what's next in the line of MRO\n",
    "\n",
    "keyword argument is good for super because you dont know who you are calling\n",
    "\n",
    "make a cooperative class \n",
    "\n",
    "stopper class to make a last call \n",
    "\n"
   ]
  },
  {
   "cell_type": "code",
   "execution_count": null,
   "metadata": {},
   "outputs": [],
   "source": []
  }
 ],
 "metadata": {
  "kernelspec": {
   "display_name": "Python 3",
   "language": "python",
   "name": "python3"
  },
  "language_info": {
   "codemirror_mode": {
    "name": "ipython",
    "version": 3
   },
   "file_extension": ".py",
   "mimetype": "text/x-python",
   "name": "python",
   "nbconvert_exporter": "python",
   "pygments_lexer": "ipython3",
   "version": "3.7.3"
  }
 },
 "nbformat": 4,
 "nbformat_minor": 2
}
