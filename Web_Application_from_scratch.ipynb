{
 "cells": [
  {
   "cell_type": "markdown",
   "metadata": {},
   "source": [
    "# Web Server\n",
    "\n",
    "##### how http works"
   ]
  },
  {
   "cell_type": "markdown",
   "metadata": {},
   "source": [
    "HTTP Clients connects to a HTTPServer and sends a request. Te server then intreprets the data and sends the rsponse back to the client. The entire protocol is written in RFC2616 https://tools.ietf.org/html/rfc2616."
   ]
  },
  {
   "cell_type": "markdown",
   "metadata": {},
   "source": [
    "#### Request Format"
   ]
  },
  {
   "cell_type": "markdown",
   "metadata": {},
   "source": [
    "GET /some-path HTTP/1.1\\r\\n\n",
    "\n",
    "1. It is represented by \\r\\n seperated lines.\n",
    "2. First line is called 'request-line'\n",
    "3. \\r is return and \\n is new line\n",
    "4. After request line comes zero or more header lines\n",
    "\n",
    "Host: example.com\\r\\n\n",
    "\n",
    "Accept: text/html\\r\\n\n",
    "\n",
    "The end of the headers section is signaled by an empty line:\n",
    "\n",
    "\\r\\n\n",
    "\n",
    "5. Request may contain a body section that is sent to server.\n",
    "\n",
    "6. Simple Get Request\n",
    "\n",
    "GET / HTTP/1.1\\r\\n\n",
    "Host: example.com\\r\\n\n",
    "Accept: text/html\\r\\n\n",
    "\\r\\n\n",
    "\n",
    "7. SImple post request with a body\n",
    "\n",
    "POST / HTTP/1.1\\r\\n\n",
    "Host: example.com\\r\\n\n",
    "Accept: application/json\\r\\n\n",
    "Content-type: application/json\\r\\n\n",
    "Content-length: 2\\r\\n\n",
    "\\r\\n\n",
    "{}\n",
    "\n",
    "\n",
    "### Response format"
   ]
  },
  {
   "cell_type": "markdown",
   "metadata": {},
   "source": [
    "HTTP/1.1 200 OK\\r\\n\n",
    "\n",
    "1. It is represented by \\r\\n seperated lines.\n",
    "2. First line is called 'status-line'\n",
    "3. After status line comes response header\n",
    "\n",
    "HTTP/1.1 200 OK\\r\\n\n",
    "Content-type: text/html\\r\\n\n",
    "Content-length: 15\\r\\n\n",
    "\\r\\n\n",
    "<h01>Hello!</h01>"
   ]
  },
  {
   "cell_type": "markdown",
   "metadata": {},
   "source": [
    "#### Let's create a simple server with this information"
   ]
  },
  {
   "cell_type": "code",
   "execution_count": null,
   "metadata": {},
   "outputs": [
    {
     "name": "stdout",
     "output_type": "stream",
     "text": [
      "Listening on 127.0.0.1:9000...\n",
      "New connection from ('127.0.0.1', 52326).\n",
      "New connection from ('127.0.0.1', 52332).\n",
      "New connection from ('127.0.0.1', 52342).\n",
      "New connection from ('127.0.0.1', 52348).\n"
     ]
    }
   ],
   "source": [
    "import socket\n",
    "\n",
    "HOST = \"127.0.0.1\"\n",
    "PORT = 9000\n",
    "\n",
    "RESPONSE = b\"\"\"\\\n",
    "HTTP/1.1 200 OK\n",
    "Content-type: text/html\n",
    "Content-length: 15\n",
    "\n",
    "<h1>Hello!</h1>\"\"\".replace(b\"\\n\", b\"\\r\\n\")\n",
    "\n",
    "with socket.socket() as server_sock:\n",
    "    server_sock.setsockopt(socket.SOL_SOCKET, socket.SO_REUSEADDR, 1)\n",
    "    server_sock.bind((HOST, PORT))\n",
    "    server_sock.listen(0)\n",
    "    print(f\"Listening on {HOST}:{PORT}...\")\n",
    "\n",
    "    while True:\n",
    "        client_sock, client_addr = server_sock.accept()\n",
    "        print(f\"New connection from {client_addr}.\")\n",
    "        with client_sock:\n",
    "            client_sock.sendall(RESPONSE)\n",
    "\n"
   ]
  },
  {
   "cell_type": "code",
   "execution_count": null,
   "metadata": {},
   "outputs": [],
   "source": []
  }
 ],
 "metadata": {
  "kernelspec": {
   "display_name": "Python 3",
   "language": "python",
   "name": "python3"
  },
  "language_info": {
   "codemirror_mode": {
    "name": "ipython",
    "version": 3
   },
   "file_extension": ".py",
   "mimetype": "text/x-python",
   "name": "python",
   "nbconvert_exporter": "python",
   "pygments_lexer": "ipython3",
   "version": "3.7.3"
  }
 },
 "nbformat": 4,
 "nbformat_minor": 2
}
