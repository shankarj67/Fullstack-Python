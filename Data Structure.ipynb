{
 "cells": [
  {
   "cell_type": "markdown",
   "metadata": {},
   "source": [
    "# Algorithm Analysis"
   ]
  },
  {
   "cell_type": "markdown",
   "metadata": {},
   "source": [
    "Data structure - It is a systematic way of organising and accessing data\n",
    "\n",
    "Algorithm - Step by step procedur for performing some task in a finite amount of time\n",
    "\n",
    "\n",
    "To classify ds and algo to be good, we must have some precise way of analyzing them by which we can say that the algorith and data structure are better.\n",
    "\n",
    "There are two aspect by which we can do the analysis:\n",
    "\n",
    "1. Running time of an algorithm \n",
    "2. data structure operations\n",
    "\n",
    "We are also keepng space usage of a data structure\n",
    "\n",
    "There are many challenges in the running time like:\n",
    "1. running time increases with the input size\n",
    "2. Running time is affected by hardware and software environment like an algorithm implemented in 3 core will run faster as compared to 2 core\n",
    "\n",
    "Inspite of the possible variation, We would like to put more foucs on the relationship between running time of an algorithm and the size of the input.\n",
    "\n",
    "\n"
   ]
  },
  {
   "cell_type": "markdown",
   "metadata": {},
   "source": [
    "# Experimental studies"
   ]
  },
  {
   "cell_type": "code",
   "execution_count": 7,
   "metadata": {
    "collapsed": true
   },
   "outputs": [],
   "source": [
    "def func(a):\n",
    "    return a ** 100000"
   ]
  },
  {
   "cell_type": "code",
   "execution_count": 8,
   "metadata": {},
   "outputs": [
    {
     "name": "stdout",
     "output_type": "stream",
     "text": [
      "Time taken by an algorithm is 0.15010595321655273\n"
     ]
    }
   ],
   "source": [
    "from time import time\n",
    "start_time = time()\n",
    "func(520)\n",
    "end_time = time()\n",
    "elapsed = end_time - start_time\n",
    "print(f\"Time taken by an algorithm is {elapsed}\")"
   ]
  },
  {
   "cell_type": "markdown",
   "metadata": {},
   "source": [
    "elapsed_time can give us the fair amount of idea about our algorithm but this is not the perfect way to calculate an algoritm effieciency because this suses something called wall clock. he elapsed time will depend on the waht process are running on the computer.\n",
    "\n",
    "Fairer metric is the number of cpu cycles used by an algorithm which can be determined by the clock function of the time module but this is also not the best way because it's granularity depends on the computer system which can be anything.\n",
    "\n",
    "\n",
    "Note: The wall-clock time is not the number of seconds that the process has spent on the CPU; it is the elapsed time, including time spent waiting for its turn on the CPU (while other processes get to run)\n"
   ]
  },
  {
   "cell_type": "code",
   "execution_count": 11,
   "metadata": {},
   "outputs": [
    {
     "name": "stdout",
     "output_type": "stream",
     "text": [
      "Process time is 0.09867471341605949\n"
     ]
    }
   ],
   "source": [
    "# measure process time\n",
    "import time\n",
    "start_time = time.clock()\n",
    "func(520)\n",
    "end_time = time.clock()\n",
    "elapsed = end_time - start_time\n",
    "print(f\"Process time is {elapsed}\")"
   ]
  },
  {
   "cell_type": "markdown",
   "metadata": {},
   "source": [
    "We are more interested in the general dependence of running time on the size and structure of the input, we should peform many independent experiment on various input sizes. We can then vizualize by plotting x and y axis where x is the input size and y is the running time.\n",
    "\n",
    "To get the meaningful insights, we need a good test case which can say about the efficiency of an algorithm.\n",
    "\n"
   ]
  },
  {
   "cell_type": "markdown",
   "metadata": {},
   "source": [
    "# Challenges of an experimental analsysis"
   ]
  },
  {
   "cell_type": "markdown",
   "metadata": {},
   "source": [
    "1. Experiment of two algorithm are hard to compare untill and unless it was performed on the same hardware\n",
    "2. Experiments can be done on the limites set of inputs and It might be a chance that we are leaving some good inputs\n",
    "3. An algorithm must be fully implemented in order to test it and this is one of the most painful task and this is why we cannot choose experimental studies to check the efieiciency of an algorithm\n",
    "\n",
    "\n",
    "A early stages of design, it's not posssible to implement the data structure and algorithm and this is why we need to find the best way to calculate the efficieny of an algorihtm.\n"
   ]
  },
  {
   "cell_type": "markdown",
   "metadata": {},
   "source": [
    "# Moving beyond experimental analysis\n",
    "`"
   ]
  },
  {
   "cell_type": "markdown",
   "metadata": {},
   "source": [
    "We have to develop an approach which has:\n",
    "\n",
    "1. Allow us to compare the two algorithm irrespective of the hardware\n",
    "2. performed by studing a high level descrription without the need of implementation\n",
    "3. takes into account of all the possible inputs\n",
    "\n",
    "\n",
    "    "
   ]
  },
  {
   "cell_type": "markdown",
   "metadata": {},
   "source": [
    "# Enrol in nptel data structure and algorithm\n",
    "https://swayam.gov.in/nd1_noc19_cs40/preview\n"
   ]
  },
  {
   "cell_type": "markdown",
   "metadata": {
    "collapsed": true
   },
   "source": [
    "# Collections"
   ]
  },
  {
   "cell_type": "markdown",
   "metadata": {},
   "source": [
    "1. A group of some data structure and it does not have to be a same datatype\n",
    "\n",
    "All the datastructure inherit the idea of collections and implemented the container according to the use case\n",
    "\n",
    "List - It can be of different types:\n",
    "\n",
    "1. Array - array is a datastructure where the elements are defined by index and we can access it by passing the index of an element. adding and deleting the array is o(n) which is not efficient\n",
    "\n",
    "Python list is implemented as an array and this is why inserting an element and deleting the element is o(n) whereas finding the length is o(1)\n",
    "\n",
    "find all the detail here: https://wiki.python.org/moin/TimeComplexity\n",
    "\n",
    "2. LInked list - \n",
    "\n",
    "    a. adding an element in linked list is so easy as compared to array.\n",
    "    b. IT has two nodes one for data and one to tell about the others location\n",
    "    c. In high level language both array and linkedlist arer implemented together\n",
    "    d. WHen deleting the elemnt, we only have to change the reference to the next list\n",
    "    e. INternally, there is some meory location provided to each linked list.\n",
    "    f. INserting and deleting is a o(1) operation because we are not traversing through the elements \n",
    "    g. In doubly linked list, we can traverse in both direction"
   ]
  },
  {
   "cell_type": "code",
   "execution_count": 2,
   "metadata": {},
   "outputs": [],
   "source": [
    "#linked list code in python, python don't have any inbuilt linked list\n",
    "\n",
    "class Element(object):\n",
    "    def __init__(self, value):\n",
    "        self.value = value\n",
    "        self.next = None\n",
    "        \n",
    "class LinkedList(object):\n",
    "    def __init__(self, head=None):\n",
    "        self.head = head\n",
    "        \n",
    "    def append(self, new_element):\n",
    "        current = self.head\n",
    "        if self.head:\n",
    "            while current.next:\n",
    "                current = current.next\n",
    "            current.next = new_element\n",
    "        else:\n",
    "            self.head = new_element\n",
    "            \n",
    "    def get_position(self, position):\n",
    "        \"\"\"Get an element from a particular position.\n",
    "        Assume the first position is \"1\".\n",
    "        Return \"None\" if position is not in the list.\"\"\"\n",
    "        return None\n",
    "    \n",
    "    def insert(self, new_element, position):\n",
    "        \"\"\"Insert a new node at the given position.\n",
    "        Assume the first position is \"1\".\n",
    "        Inserting at position 3 means between\n",
    "        the 2nd and 3rd elements.\"\"\"\n",
    "        pass\n",
    "    \n",
    "    \n",
    "    def delete(self, value):\n",
    "        \"\"\"Delete the first node with a given value.\"\"\"\n",
    "        pass\n"
   ]
  },
  {
   "cell_type": "markdown",
   "metadata": {},
   "source": [
    "# Orielly - Data Structure and Algortihms"
   ]
  },
  {
   "cell_type": "markdown",
   "metadata": {},
   "source": [
    "### Algorithm\n",
    "\n",
    "An algorithm describes the computational steps to compute an exact answer for a single problem instance\n",
    "\n",
    "### Asymptotic analysis\n",
    "\n",
    "this is all about how time grows as input grows and this is why we plot a graph of time vs input to see the linearity of the input \n",
    "\n",
    "there are different family of algorithm:\n",
    "\n",
    "#### 0(n)\n",
    "\n",
    "1. This is the linear form of algorithm which shows the linear behaviour\n",
    "2. As problem size doubles, programs work twice as hard\n",
    "3. Multiplicative constant does not change the classification\n",
    "\n",
    "#### O(n2)\n",
    "\n",
    "1. This shows the quadratic behaviour\n",
    "2. As problem size doubles, program works four times as hard"
   ]
  },
  {
   "cell_type": "code",
   "execution_count": 5,
   "metadata": {},
   "outputs": [],
   "source": [
    "# Binary search\n",
    "\n",
    "numbers = [1,4,8,9,11,15,17]\n",
    "\n",
    "def binary_search(low, high, tgt):\n",
    "    tgt = 15\n",
    "    low = 0\n",
    "    high = len(numbers) - 1\n",
    "    while low<=high:\n",
    "        mid = (low + high) // 2\n",
    "        if tgt < numbers[mid]:\n",
    "            high = mid - 1\n",
    "        elif tgt > numbers[mid]:\n",
    "            low = mid + 1\n",
    "        else:\n",
    "            return True\n",
    "    return False    \n",
    "\n",
    "# ALways use the direct comparison in the last because there is a low probability of finding that in the middle\n",
    "\n",
    "    "
   ]
  },
  {
   "cell_type": "markdown",
   "metadata": {},
   "source": [
    "### Evaluation of binary search"
   ]
  },
  {
   "cell_type": "markdown",
   "metadata": {},
   "source": [
    "1. As problem size increases or doubles, time increased is constant\n",
    "2. Only one more pass through the loop\n",
    "3. This is 0(logn) time complexity\n",
    "4. Space complexity is 0(1) as we are storing high, low, mid and they are constant only"
   ]
  },
  {
   "cell_type": "markdown",
   "metadata": {},
   "source": [
    "#### Word ladder proble\n",
    "\n",
    "Task is find the word in the dictionary and also ensure that the task is shortest path\n",
    "\n",
    "If you are checking for a existence then you should always use dictionary and this will make sure that you will have a O(1) complexity in an average case. INsertion and deletion is also an O(1) for an average case\n",
    "\n",
    "\n"
   ]
  },
  {
   "cell_type": "code",
   "execution_count": null,
   "metadata": {},
   "outputs": [],
   "source": []
  }
 ],
 "metadata": {
  "kernelspec": {
   "display_name": "Python 3",
   "language": "python",
   "name": "python3"
  },
  "language_info": {
   "codemirror_mode": {
    "name": "ipython",
    "version": 3
   },
   "file_extension": ".py",
   "mimetype": "text/x-python",
   "name": "python",
   "nbconvert_exporter": "python",
   "pygments_lexer": "ipython3",
   "version": "3.7.3"
  }
 },
 "nbformat": 4,
 "nbformat_minor": 2
}
