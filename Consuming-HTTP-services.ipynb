{
 "cells": [
  {
   "cell_type": "markdown",
   "metadata": {},
   "source": [
    "# HTTP Request"
   ]
  },
  {
   "cell_type": "code",
   "execution_count": 3,
   "metadata": {},
   "outputs": [],
   "source": [
    "import requests"
   ]
  },
  {
   "cell_type": "code",
   "execution_count": 4,
   "metadata": {},
   "outputs": [],
   "source": [
    "url = \"https://talkpython.fm\""
   ]
  },
  {
   "cell_type": "code",
   "execution_count": 5,
   "metadata": {},
   "outputs": [],
   "source": [
    "resp = requests.get(url)"
   ]
  },
  {
   "cell_type": "code",
   "execution_count": 7,
   "metadata": {},
   "outputs": [
    {
     "name": "stdout",
     "output_type": "stream",
     "text": [
      "<Response [200]>\n"
     ]
    }
   ],
   "source": [
    "print(resp) #http 200 is correct"
   ]
  },
  {
   "cell_type": "code",
   "execution_count": 8,
   "metadata": {},
   "outputs": [],
   "source": [
    "if resp.status_code !=200:\n",
    "    print(\"NOt worked\")"
   ]
  },
  {
   "cell_type": "code",
   "execution_count": 10,
   "metadata": {},
   "outputs": [
    {
     "data": {
      "text/plain": [
       "'<!DOCTYPE '"
      ]
     },
     "execution_count": 10,
     "metadata": {},
     "output_type": "execute_result"
    }
   ],
   "source": [
    "resp.text[:10]"
   ]
  },
  {
   "cell_type": "markdown",
   "metadata": {},
   "source": [
    "# Service data formats"
   ]
  },
  {
   "cell_type": "markdown",
   "metadata": {},
   "source": [
    "these are meant for computers not for humans:\n",
    "\n",
    "1. JSON\n",
    "2. XML\n",
    "3. Binary\n",
    "4. SOAP\n",
    "\n",
    "How to coonsume all of these services is the crucial part for computer programmer. Let us look into one by one"
   ]
  },
  {
   "cell_type": "code",
   "execution_count": 12,
   "metadata": {},
   "outputs": [],
   "source": [
    "text_json = '''{\n",
    "   \"demo\": \"Processing JSON in Python\",\n",
    "\"instructor\": \"Michael\",\n",
    "   \"duration\": 5.0\n",
    "}'''"
   ]
  },
  {
   "cell_type": "code",
   "execution_count": 15,
   "metadata": {},
   "outputs": [
    {
     "name": "stdout",
     "output_type": "stream",
     "text": [
      "<class 'str'>\n"
     ]
    }
   ],
   "source": [
    "print(type(text_json))"
   ]
  },
  {
   "cell_type": "code",
   "execution_count": 18,
   "metadata": {},
   "outputs": [
    {
     "name": "stdout",
     "output_type": "stream",
     "text": [
      "{'demo': 'Processing JSON in Python', 'instructor': 'Michael', 'duration': 5.0}\n"
     ]
    }
   ],
   "source": [
    "import json\n",
    "\n",
    "#parsing json\n",
    "data = json.loads(text_json)\n",
    "print(data)"
   ]
  },
  {
   "cell_type": "code",
   "execution_count": 19,
   "metadata": {},
   "outputs": [
    {
     "data": {
      "text/plain": [
       "{'demo': 'Processing JSON in Python', 'instructor': 'Michael', 'duration': 5.0}"
      ]
     },
     "execution_count": 19,
     "metadata": {},
     "output_type": "execute_result"
    }
   ],
   "source": [
    "data"
   ]
  },
  {
   "cell_type": "code",
   "execution_count": 21,
   "metadata": {},
   "outputs": [
    {
     "name": "stdout",
     "output_type": "stream",
     "text": [
      "YOur instructor is Michael\n"
     ]
    }
   ],
   "source": [
    "print(\"YOur instructor is\", data['instructor'])"
   ]
  },
  {
   "cell_type": "markdown",
   "metadata": {},
   "source": [
    "#### Best practice to get the value when it's coming from internet"
   ]
  },
  {
   "cell_type": "code",
   "execution_count": 22,
   "metadata": {},
   "outputs": [
    {
     "data": {
      "text/plain": [
       "'Michael'"
      ]
     },
     "execution_count": 22,
     "metadata": {},
     "output_type": "execute_result"
    }
   ],
   "source": [
    "data.get(\"instructor\",\"SUBSTITUTE\")"
   ]
  },
  {
   "cell_type": "code",
   "execution_count": 23,
   "metadata": {},
   "outputs": [],
   "source": [
    "data['instructor'] = \"jeff\""
   ]
  },
  {
   "cell_type": "code",
   "execution_count": 24,
   "metadata": {},
   "outputs": [
    {
     "name": "stdout",
     "output_type": "stream",
     "text": [
      "{'demo': 'Processing JSON in Python', 'instructor': 'jeff', 'duration': 5.0}\n"
     ]
    }
   ],
   "source": [
    "print(data)"
   ]
  },
  {
   "cell_type": "code",
   "execution_count": 25,
   "metadata": {},
   "outputs": [],
   "source": [
    "new_json = json.dumps(data)"
   ]
  },
  {
   "cell_type": "markdown",
   "metadata": {},
   "source": [
    "###### dump and dumps or load and loads means when we are accesing from memory, we will always use s(loads, dumps)"
   ]
  },
  {
   "cell_type": "markdown",
   "metadata": {},
   "source": [
    "# Consuming JSON from the GihubAPI"
   ]
  },
  {
   "cell_type": "code",
   "execution_count": 26,
   "metadata": {},
   "outputs": [],
   "source": [
    "url = \"https://api.github.com/repos/shankarj67/Water-classifier-fastai\"\n",
    "resp = requests.get(url)"
   ]
  },
  {
   "cell_type": "code",
   "execution_count": 27,
   "metadata": {},
   "outputs": [
    {
     "data": {
      "text/plain": [
       "<Response [200]>"
      ]
     },
     "execution_count": 27,
     "metadata": {},
     "output_type": "execute_result"
    }
   ],
   "source": [
    "resp"
   ]
  },
  {
   "cell_type": "code",
   "execution_count": 29,
   "metadata": {},
   "outputs": [
    {
     "data": {
      "text/plain": [
       "{'id': 160231419,\n",
       " 'node_id': 'MDEwOlJlcG9zaXRvcnkxNjAyMzE0MTk=',\n",
       " 'name': 'Water-classifier-fastai',\n",
       " 'full_name': 'shankarj67/Water-classifier-fastai',\n",
       " 'private': False,\n",
       " 'owner': {'login': 'shankarj67',\n",
       "  'id': 11690680,\n",
       "  'node_id': 'MDQ6VXNlcjExNjkwNjgw',\n",
       "  'avatar_url': 'https://avatars0.githubusercontent.com/u/11690680?v=4',\n",
       "  'gravatar_id': '',\n",
       "  'url': 'https://api.github.com/users/shankarj67',\n",
       "  'html_url': 'https://github.com/shankarj67',\n",
       "  'followers_url': 'https://api.github.com/users/shankarj67/followers',\n",
       "  'following_url': 'https://api.github.com/users/shankarj67/following{/other_user}',\n",
       "  'gists_url': 'https://api.github.com/users/shankarj67/gists{/gist_id}',\n",
       "  'starred_url': 'https://api.github.com/users/shankarj67/starred{/owner}{/repo}',\n",
       "  'subscriptions_url': 'https://api.github.com/users/shankarj67/subscriptions',\n",
       "  'organizations_url': 'https://api.github.com/users/shankarj67/orgs',\n",
       "  'repos_url': 'https://api.github.com/users/shankarj67/repos',\n",
       "  'events_url': 'https://api.github.com/users/shankarj67/events{/privacy}',\n",
       "  'received_events_url': 'https://api.github.com/users/shankarj67/received_events',\n",
       "  'type': 'User',\n",
       "  'site_admin': False},\n",
       " 'html_url': 'https://github.com/shankarj67/Water-classifier-fastai',\n",
       " 'description': 'Deploy your Flask web app classifier on Heroku which is written using fastai library.',\n",
       " 'fork': False,\n",
       " 'url': 'https://api.github.com/repos/shankarj67/Water-classifier-fastai',\n",
       " 'forks_url': 'https://api.github.com/repos/shankarj67/Water-classifier-fastai/forks',\n",
       " 'keys_url': 'https://api.github.com/repos/shankarj67/Water-classifier-fastai/keys{/key_id}',\n",
       " 'collaborators_url': 'https://api.github.com/repos/shankarj67/Water-classifier-fastai/collaborators{/collaborator}',\n",
       " 'teams_url': 'https://api.github.com/repos/shankarj67/Water-classifier-fastai/teams',\n",
       " 'hooks_url': 'https://api.github.com/repos/shankarj67/Water-classifier-fastai/hooks',\n",
       " 'issue_events_url': 'https://api.github.com/repos/shankarj67/Water-classifier-fastai/issues/events{/number}',\n",
       " 'events_url': 'https://api.github.com/repos/shankarj67/Water-classifier-fastai/events',\n",
       " 'assignees_url': 'https://api.github.com/repos/shankarj67/Water-classifier-fastai/assignees{/user}',\n",
       " 'branches_url': 'https://api.github.com/repos/shankarj67/Water-classifier-fastai/branches{/branch}',\n",
       " 'tags_url': 'https://api.github.com/repos/shankarj67/Water-classifier-fastai/tags',\n",
       " 'blobs_url': 'https://api.github.com/repos/shankarj67/Water-classifier-fastai/git/blobs{/sha}',\n",
       " 'git_tags_url': 'https://api.github.com/repos/shankarj67/Water-classifier-fastai/git/tags{/sha}',\n",
       " 'git_refs_url': 'https://api.github.com/repos/shankarj67/Water-classifier-fastai/git/refs{/sha}',\n",
       " 'trees_url': 'https://api.github.com/repos/shankarj67/Water-classifier-fastai/git/trees{/sha}',\n",
       " 'statuses_url': 'https://api.github.com/repos/shankarj67/Water-classifier-fastai/statuses/{sha}',\n",
       " 'languages_url': 'https://api.github.com/repos/shankarj67/Water-classifier-fastai/languages',\n",
       " 'stargazers_url': 'https://api.github.com/repos/shankarj67/Water-classifier-fastai/stargazers',\n",
       " 'contributors_url': 'https://api.github.com/repos/shankarj67/Water-classifier-fastai/contributors',\n",
       " 'subscribers_url': 'https://api.github.com/repos/shankarj67/Water-classifier-fastai/subscribers',\n",
       " 'subscription_url': 'https://api.github.com/repos/shankarj67/Water-classifier-fastai/subscription',\n",
       " 'commits_url': 'https://api.github.com/repos/shankarj67/Water-classifier-fastai/commits{/sha}',\n",
       " 'git_commits_url': 'https://api.github.com/repos/shankarj67/Water-classifier-fastai/git/commits{/sha}',\n",
       " 'comments_url': 'https://api.github.com/repos/shankarj67/Water-classifier-fastai/comments{/number}',\n",
       " 'issue_comment_url': 'https://api.github.com/repos/shankarj67/Water-classifier-fastai/issues/comments{/number}',\n",
       " 'contents_url': 'https://api.github.com/repos/shankarj67/Water-classifier-fastai/contents/{+path}',\n",
       " 'compare_url': 'https://api.github.com/repos/shankarj67/Water-classifier-fastai/compare/{base}...{head}',\n",
       " 'merges_url': 'https://api.github.com/repos/shankarj67/Water-classifier-fastai/merges',\n",
       " 'archive_url': 'https://api.github.com/repos/shankarj67/Water-classifier-fastai/{archive_format}{/ref}',\n",
       " 'downloads_url': 'https://api.github.com/repos/shankarj67/Water-classifier-fastai/downloads',\n",
       " 'issues_url': 'https://api.github.com/repos/shankarj67/Water-classifier-fastai/issues{/number}',\n",
       " 'pulls_url': 'https://api.github.com/repos/shankarj67/Water-classifier-fastai/pulls{/number}',\n",
       " 'milestones_url': 'https://api.github.com/repos/shankarj67/Water-classifier-fastai/milestones{/number}',\n",
       " 'notifications_url': 'https://api.github.com/repos/shankarj67/Water-classifier-fastai/notifications{?since,all,participating}',\n",
       " 'labels_url': 'https://api.github.com/repos/shankarj67/Water-classifier-fastai/labels{/name}',\n",
       " 'releases_url': 'https://api.github.com/repos/shankarj67/Water-classifier-fastai/releases{/id}',\n",
       " 'deployments_url': 'https://api.github.com/repos/shankarj67/Water-classifier-fastai/deployments',\n",
       " 'created_at': '2018-12-03T17:51:21Z',\n",
       " 'updated_at': '2019-09-25T07:09:43Z',\n",
       " 'pushed_at': '2019-02-28T09:48:17Z',\n",
       " 'git_url': 'git://github.com/shankarj67/Water-classifier-fastai.git',\n",
       " 'ssh_url': 'git@github.com:shankarj67/Water-classifier-fastai.git',\n",
       " 'clone_url': 'https://github.com/shankarj67/Water-classifier-fastai.git',\n",
       " 'svn_url': 'https://github.com/shankarj67/Water-classifier-fastai',\n",
       " 'homepage': 'https://water-classifier1.herokuapp.com/',\n",
       " 'size': 79630,\n",
       " 'stargazers_count': 22,\n",
       " 'watchers_count': 22,\n",
       " 'language': 'HTML',\n",
       " 'has_issues': True,\n",
       " 'has_projects': True,\n",
       " 'has_downloads': True,\n",
       " 'has_wiki': True,\n",
       " 'has_pages': False,\n",
       " 'forks_count': 23,\n",
       " 'mirror_url': None,\n",
       " 'archived': False,\n",
       " 'disabled': False,\n",
       " 'open_issues_count': 2,\n",
       " 'license': {'key': 'mit',\n",
       "  'name': 'MIT License',\n",
       "  'spdx_id': 'MIT',\n",
       "  'url': 'https://api.github.com/licenses/mit',\n",
       "  'node_id': 'MDc6TGljZW5zZTEz'},\n",
       " 'forks': 23,\n",
       " 'open_issues': 2,\n",
       " 'watchers': 22,\n",
       " 'default_branch': 'master',\n",
       " 'network_count': 23,\n",
       " 'subscribers_count': 2}"
      ]
     },
     "execution_count": 29,
     "metadata": {},
     "output_type": "execute_result"
    }
   ],
   "source": [
    "resp.json()"
   ]
  },
  {
   "cell_type": "code",
   "execution_count": 50,
   "metadata": {},
   "outputs": [],
   "source": [
    "def clone_url():\n",
    "    url = \"https://api.github.com/repos/shankarj67/Water-classifier-fastai\"\n",
    "    resp = requests.get(url)\n",
    "    if resp.status_code != 200:\n",
    "        print(f\"APi is not working, Error code is: {resp.status_code}\")\n",
    "    else:\n",
    "        resp_dict = resp.json()\n",
    "        clone_url_result = resp_dict.get(\"clone_url\", \"Error\")\n",
    "        print(f\"git clone {clone_url_result}\")\n",
    "       \n",
    "        "
   ]
  },
  {
   "cell_type": "code",
   "execution_count": 51,
   "metadata": {},
   "outputs": [
    {
     "name": "stdout",
     "output_type": "stream",
     "text": [
      "git clone https://github.com/shankarj67/Water-classifier-fastai.git\n"
     ]
    }
   ],
   "source": [
    "clone_url()\n"
   ]
  },
  {
   "cell_type": "code",
   "execution_count": 47,
   "metadata": {},
   "outputs": [
    {
     "ename": "TypeError",
     "evalue": "'Response' object is not subscriptable",
     "output_type": "error",
     "traceback": [
      "\u001b[0;31m---------------------------------------------------------------------------\u001b[0m",
      "\u001b[0;31mTypeError\u001b[0m                                 Traceback (most recent call last)",
      "\u001b[0;32m<ipython-input-47-92d5c643c23b>\u001b[0m in \u001b[0;36m<module>\u001b[0;34m\u001b[0m\n\u001b[0;32m----> 1\u001b[0;31m \u001b[0ma\u001b[0m \u001b[0;34m=\u001b[0m \u001b[0mresp\u001b[0m\u001b[0;34m[\u001b[0m\u001b[0;34m'clone_url'\u001b[0m\u001b[0;34m]\u001b[0m\u001b[0;34m\u001b[0m\u001b[0;34m\u001b[0m\u001b[0m\n\u001b[0m",
      "\u001b[0;31mTypeError\u001b[0m: 'Response' object is not subscriptable"
     ]
    }
   ],
   "source": [
    "a = resp['clone_url']"
   ]
  },
  {
   "cell_type": "markdown",
   "metadata": {},
   "source": [
    "# XML Services with requests"
   ]
  },
  {
   "cell_type": "code",
   "execution_count": 29,
   "metadata": {},
   "outputs": [],
   "source": [
    "from collections import namedtuple\n",
    "file = \"reed.xml\"\n",
    "\n",
    "with open(file) as fin:\n",
    "    xml_text = fin.read()"
   ]
  },
  {
   "cell_type": "code",
   "execution_count": 30,
   "metadata": {},
   "outputs": [],
   "source": [
    "from xml.etree import ElementTree\n",
    "dom  = ElementTree.fromstring(xml_text)"
   ]
  },
  {
   "cell_type": "code",
   "execution_count": 31,
   "metadata": {},
   "outputs": [
    {
     "name": "stdout",
     "output_type": "stream",
     "text": [
      "<Element 'root' at 0x7f893fe77c28>\n"
     ]
    }
   ],
   "source": [
    "print(dom)\n"
   ]
  },
  {
   "cell_type": "code",
   "execution_count": 32,
   "metadata": {},
   "outputs": [],
   "source": [
    "Course = namedtuple(\"Course\", \"title name building\")"
   ]
  },
  {
   "cell_type": "code",
   "execution_count": 36,
   "metadata": {},
   "outputs": [],
   "source": [
    "course_detail = []\n",
    "for n in dom.findall(\"course\"):\n",
    "    c = Course(\n",
    "    n.find(\"title\").text,\n",
    "    n.find(\"place/room\").text,\n",
    "    n.find(\"place/building\").text    \n",
    "        \n",
    "    )\n",
    "    course_detail.append(c)\n",
    "    \n",
    "   "
   ]
  },
  {
   "cell_type": "markdown",
   "metadata": {},
   "source": [
    "#### Consuming data from RSS feed using Requests"
   ]
  },
  {
   "cell_type": "code",
   "execution_count": 19,
   "metadata": {},
   "outputs": [],
   "source": [
    "import requests\n",
    "from xml.etree import ElementTree\n",
    "from dateutil.parser import parse\n",
    "from collections import namedtuple\n"
   ]
  },
  {
   "cell_type": "code",
   "execution_count": 20,
   "metadata": {},
   "outputs": [],
   "source": [
    "Episode = namedtuple(\"Episode\", \"title link pubdate\")"
   ]
  },
  {
   "cell_type": "code",
   "execution_count": 25,
   "metadata": {},
   "outputs": [],
   "source": [
    "def get_xml_dom(url):\n",
    "    response = requests.get(url)\n",
    "    if response.status_code != 200:\n",
    "        return None\n",
    "    dom = ElementTree.fromstring(response.text)\n",
    "    return dom\n",
    "    "
   ]
  },
  {
   "cell_type": "code",
   "execution_count": 26,
   "metadata": {},
   "outputs": [],
   "source": [
    "def get_episode(dom):\n",
    "    item_nodes = dom.findall('channel/item')\n",
    "    return [ Episode(n.find('title').text,n.find('link').text,n.find('pubdate').text)\n",
    "           for n in item_nodes ]"
   ]
  },
  {
   "cell_type": "code",
   "execution_count": 28,
   "metadata": {},
   "outputs": [
    {
     "ename": "AttributeError",
     "evalue": "'NoneType' object has no attribute 'text'",
     "output_type": "error",
     "traceback": [
      "\u001b[0;31m---------------------------------------------------------------------------\u001b[0m",
      "\u001b[0;31mAttributeError\u001b[0m                            Traceback (most recent call last)",
      "\u001b[0;32m<ipython-input-28-c34a95ac0ed8>\u001b[0m in \u001b[0;36m<module>\u001b[0;34m\u001b[0m\n\u001b[1;32m      1\u001b[0m \u001b[0mdom\u001b[0m \u001b[0;34m=\u001b[0m \u001b[0mget_xml_dom\u001b[0m\u001b[0;34m(\u001b[0m\u001b[0;34m\"https://talkpython.fm/rss\"\u001b[0m\u001b[0;34m)\u001b[0m\u001b[0;34m\u001b[0m\u001b[0;34m\u001b[0m\u001b[0m\n\u001b[0;32m----> 2\u001b[0;31m \u001b[0mepisode\u001b[0m  \u001b[0;34m=\u001b[0m \u001b[0mget_episode\u001b[0m\u001b[0;34m(\u001b[0m\u001b[0mdom\u001b[0m\u001b[0;34m)\u001b[0m\u001b[0;34m\u001b[0m\u001b[0;34m\u001b[0m\u001b[0m\n\u001b[0m",
      "\u001b[0;32m<ipython-input-26-fd7a273ab37e>\u001b[0m in \u001b[0;36mget_episode\u001b[0;34m(dom)\u001b[0m\n\u001b[1;32m      2\u001b[0m     \u001b[0mitem_nodes\u001b[0m \u001b[0;34m=\u001b[0m \u001b[0mdom\u001b[0m\u001b[0;34m.\u001b[0m\u001b[0mfindall\u001b[0m\u001b[0;34m(\u001b[0m\u001b[0;34m'channel/item'\u001b[0m\u001b[0;34m)\u001b[0m\u001b[0;34m\u001b[0m\u001b[0;34m\u001b[0m\u001b[0m\n\u001b[1;32m      3\u001b[0m     return [ Episode(n.find('title').text,n.find('link').text,n.find('pubdate').text)\n\u001b[0;32m----> 4\u001b[0;31m            for n in item_nodes ]\n\u001b[0m",
      "\u001b[0;32m<ipython-input-26-fd7a273ab37e>\u001b[0m in \u001b[0;36m<listcomp>\u001b[0;34m(.0)\u001b[0m\n\u001b[1;32m      2\u001b[0m     \u001b[0mitem_nodes\u001b[0m \u001b[0;34m=\u001b[0m \u001b[0mdom\u001b[0m\u001b[0;34m.\u001b[0m\u001b[0mfindall\u001b[0m\u001b[0;34m(\u001b[0m\u001b[0;34m'channel/item'\u001b[0m\u001b[0;34m)\u001b[0m\u001b[0;34m\u001b[0m\u001b[0;34m\u001b[0m\u001b[0m\n\u001b[1;32m      3\u001b[0m     return [ Episode(n.find('title').text,n.find('link').text,n.find('pubdate').text)\n\u001b[0;32m----> 4\u001b[0;31m            for n in item_nodes ]\n\u001b[0m",
      "\u001b[0;31mAttributeError\u001b[0m: 'NoneType' object has no attribute 'text'"
     ]
    }
   ],
   "source": [
    "dom = get_xml_dom(\"https://talkpython.fm/rss\")\n",
    "episode  = get_episode(dom)"
   ]
  },
  {
   "cell_type": "code",
   "execution_count": null,
   "metadata": {},
   "outputs": [],
   "source": []
  }
 ],
 "metadata": {
  "kernelspec": {
   "display_name": "Python 3",
   "language": "python",
   "name": "python3"
  },
  "language_info": {
   "codemirror_mode": {
    "name": "ipython",
    "version": 3
   },
   "file_extension": ".py",
   "mimetype": "text/x-python",
   "name": "python",
   "nbconvert_exporter": "python",
   "pygments_lexer": "ipython3",
   "version": "3.7.3"
  }
 },
 "nbformat": 4,
 "nbformat_minor": 2
}
