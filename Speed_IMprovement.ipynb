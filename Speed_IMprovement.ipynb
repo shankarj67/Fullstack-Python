{
 "cells": [
  {
   "cell_type": "code",
   "execution_count": 2,
   "metadata": {},
   "outputs": [
    {
     "name": "stdout",
     "output_type": "stream",
     "text": [
      "Time spent 0.44205271199999996\n"
     ]
    }
   ],
   "source": [
    "from math import exp, sin\n",
    "import time\n",
    "\n",
    "def calculate(a):\n",
    "    result = 0\n",
    "    for val in a:\n",
    "        result += exp(val) * sin(val)\n",
    "    return result\n",
    "\n",
    "x = [0.1 * i for i in range(1000)]\n",
    "t0 = time.process_time()\n",
    "for r in range(1000):\n",
    "    calculate(x)\n",
    "t1 = time.process_time()\n",
    "print(\"Time spent\", t1 - t0)"
   ]
  },
  {
   "cell_type": "markdown",
   "metadata": {},
   "source": [
    "# Uisng a context manager"
   ]
  },
  {
   "cell_type": "code",
   "execution_count": 5,
   "metadata": {},
   "outputs": [
    {
     "name": "stdout",
     "output_type": "stream",
     "text": [
      "Time spent 0.47554175700000023\n"
     ]
    }
   ],
   "source": [
    "from math import exp, sin\n",
    "import time\n",
    "\n",
    "class Timer:\n",
    "    def __enter__(self):\n",
    "        self.start = time.process_time()\n",
    "        return self\n",
    "\n",
    "    def __exit__(self, *args):\n",
    "        self.end = time.process_time()\n",
    "        self.interval = self.end - self.start\n",
    "\n",
    "def calculate(a):\n",
    "    result = 0\n",
    "    for val in a:\n",
    "        result += exp(val) * sin(val)\n",
    "    return result\n",
    "\n",
    "x = [0.1 * i for i in range(1000)]\n",
    "with Timer() as t:\n",
    "    for r in range(1000):\n",
    "        calculate(x)\n",
    "print(\"Time spent\", t.interval)"
   ]
  },
  {
   "cell_type": "code",
   "execution_count": null,
   "metadata": {},
   "outputs": [],
   "source": []
  }
 ],
 "metadata": {
  "kernelspec": {
   "display_name": "Python 3",
   "language": "python",
   "name": "python3"
  },
  "language_info": {
   "codemirror_mode": {
    "name": "ipython",
    "version": 3
   },
   "file_extension": ".py",
   "mimetype": "text/x-python",
   "name": "python",
   "nbconvert_exporter": "python",
   "pygments_lexer": "ipython3",
   "version": "3.7.3"
  }
 },
 "nbformat": 4,
 "nbformat_minor": 2
}
