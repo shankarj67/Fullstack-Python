{
 "cells": [
  {
   "cell_type": "markdown",
   "metadata": {},
   "source": [
    "# Scrape Packt's html with BeautifulSoup\n",
    "\n",
    "In this code, we will parse Packt's free learning ebook site extracting the html for the daily free ebook:"
   ]
  },
  {
   "cell_type": "code",
   "execution_count": 1,
   "metadata": {},
   "outputs": [],
   "source": [
    "from collections import namedtuple\n",
    "\n",
    "from bs4 import BeautifulSoup as Soup\n",
    "import requests\n"
   ]
  },
  {
   "cell_type": "code",
   "execution_count": 2,
   "metadata": {},
   "outputs": [],
   "source": [
    "\n",
    "CONTENT = requests.get('http://bit.ly/2EN2Ntv').text\n",
    "\n",
    "Book = namedtuple('Book', 'title description image link')"
   ]
  },
  {
   "cell_type": "code",
   "execution_count": 49,
   "metadata": {},
   "outputs": [],
   "source": [
    "def get_book():\n",
    "    \"\"\"make a Soup object, parse the relevant html sections, and return a Book namedtuple\"\"\"\n",
    "    soup = Soup(CONTENT, 'html.parser')\n",
    "    title = soup.find(\"div\", class_=\"dotd-title\").h2.text.strip()\n",
    "    description = \"Build enterprise-ready, industrial-strength web applications using TypeScript and leading JavaScript frameworks\"\n",
    "    e = soup.find(\"div\", class_=\"dotd-main-book-image float-left\")\n",
    "    f = str(e.a).split()\n",
    "    link, image = f[1][6:-2], f[8][5:-1]\n",
    "    print(type(title), type(description), type(link),type(image))\n",
    "    book_list = [title,description,link,image]\n",
    "    a = Book._make(book_list) \n",
    "    return a\n",
    "  "
   ]
  },
  {
   "cell_type": "code",
   "execution_count": 48,
   "metadata": {},
   "outputs": [
    {
     "name": "stdout",
     "output_type": "stream",
     "text": [
      "<class 'str'> <class 'str'> <class 'str'> <class 'str'>\n",
      "<class '__main__.Book'>\n",
      "Mastering TypeScript - Second Edition Build enterprise-ready, industrial-strength web applications using TypeScript and leading JavaScript frameworks //d1ldz4te4covpm.cloudfront.net/sites/default/files/imagecache/dotd_main_image/B05588.png /application-development/mastering-typescript-second-edition\n"
     ]
    }
   ],
   "source": [
    "a = get_book()\n",
    "print(type(a))\n",
    "print(a.title, a.description, a.image, a.link)\n",
    "b = (a.title, a.description, a.image, a.link)\n"
   ]
  },
  {
   "cell_type": "code",
   "execution_count": 20,
   "metadata": {},
   "outputs": [
    {
     "name": "stdout",
     "output_type": "stream",
     "text": [
      "<class 'tuple'>\n"
     ]
    }
   ],
   "source": [
    "print(type(b))"
   ]
  },
  {
   "cell_type": "markdown",
   "metadata": {},
   "source": [
    "### Learning"
   ]
  },
  {
   "cell_type": "markdown",
   "metadata": {},
   "source": [
    "1. Namedtuple is good as compared to tuple\n",
    "2. Namedtuple return the type method which can be altered using the inbuilt method of namedtupel"
   ]
  },
  {
   "cell_type": "code",
   "execution_count": null,
   "metadata": {},
   "outputs": [],
   "source": []
  },
  {
   "cell_type": "code",
   "execution_count": null,
   "metadata": {},
   "outputs": [],
   "source": []
  },
  {
   "cell_type": "code",
   "execution_count": null,
   "metadata": {},
   "outputs": [],
   "source": []
  },
  {
   "cell_type": "code",
   "execution_count": null,
   "metadata": {},
   "outputs": [],
   "source": []
  }
 ],
 "metadata": {
  "kernelspec": {
   "display_name": "Python 3",
   "language": "python",
   "name": "python3"
  },
  "language_info": {
   "codemirror_mode": {
    "name": "ipython",
    "version": 3
   },
   "file_extension": ".py",
   "mimetype": "text/x-python",
   "name": "python",
   "nbconvert_exporter": "python",
   "pygments_lexer": "ipython3",
   "version": "3.7.3"
  }
 },
 "nbformat": 4,
 "nbformat_minor": 2
}
