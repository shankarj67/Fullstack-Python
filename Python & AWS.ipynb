{
 "cells": [
  {
   "cell_type": "markdown",
   "metadata": {},
   "source": [
    "What the application will look like?\n",
    "\n",
    "1. Apllication will have sign up and sign in\n",
    "2. User can add their image with description and we will label them using deep learning and computer vision application\n",
    "3. Forget password and security measures"
   ]
  },
  {
   "cell_type": "markdown",
   "metadata": {},
   "source": [
    "# ec2 - capacity"
   ]
  },
  {
   "cell_type": "markdown",
   "metadata": {},
   "source": [
    "EC2 INSTANCE - this is where we will have our linux operating system and we will be hosting our application here"
   ]
  },
  {
   "cell_type": "markdown",
   "metadata": {},
   "source": [
    "# Why should i build on the AWS?"
   ]
  },
  {
   "cell_type": "markdown",
   "metadata": {},
   "source": [
    "1. SUccess of businessdepends on the ability to build application that runs securely and reliably\n",
    "2. AWS provides computes, storage and database analytics and machine learning services\n",
    "3. It can scale upto million of customers\n",
    "4. you can access as little as you can\n",
    "5. Experimentaion can be done quicly without worrying about the cost\n",
    "6. you can go global in minute \n",
    "7. you can provide low latency and effective service\n",
    "\n",
    "\n",
    "#### do i have to pay?\n",
    "\n",
    "1. You can use for free tier as log as you don't cross limts\n",
    "2. you can test in free tier and decide whether you need\n",
    "\n",
    "aws.amazon.com/free\n",
    "\n",
    "the first thing is to setup a billing alarm\n",
    "\n",
    "\n",
    "We can make an api call to provision an EC2 instance and other services. API is a way by which we are interacting with the aws services in the backend. nothing can be done without aws API\n",
    "\n",
    "\n",
    "AWS is all about automation and we can use boto3 sdk. you can programabily provision everuthing by calling an api."
   ]
  },
  {
   "cell_type": "markdown",
   "metadata": {},
   "source": [
    "# Amazon EC2 instance"
   ]
  },
  {
   "cell_type": "markdown",
   "metadata": {},
   "source": [
    "1. Elastic compute cloud is a web service that providessecure, reliable and resizable compute capacity in the cloud\n",
    "2. it reduces the time to obtain new server instance \n",
    "3. it offers pay as you go\n",
    "4. failure-resillient \n",
    "\n",
    "in order to launch an EC2 instance, several properties have to be configured such as \n",
    "\n",
    "1. Amazon machine image or AMI\n",
    "2. security groups\n",
    "3. storage\n",
    "4. key pairs\n",
    "--\n",
    "\n",
    "\n",
    "\n",
    "\n",
    "\n",
    "\n"
   ]
  },
  {
   "cell_type": "code",
   "execution_count": null,
   "metadata": {},
   "outputs": [],
   "source": []
  }
 ],
 "metadata": {
  "kernelspec": {
   "display_name": "Python 3",
   "language": "python",
   "name": "python3"
  },
  "language_info": {
   "codemirror_mode": {
    "name": "ipython",
    "version": 3
   },
   "file_extension": ".py",
   "mimetype": "text/x-python",
   "name": "python",
   "nbconvert_exporter": "python",
   "pygments_lexer": "ipython3",
   "version": "3.7.3"
  }
 },
 "nbformat": 4,
 "nbformat_minor": 2
}
